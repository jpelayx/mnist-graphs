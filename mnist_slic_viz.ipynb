{
  "cells": [
    {
      "cell_type": "code",
      "execution_count": 1,
      "metadata": {
        "id": "6oLZmENYINqH"
      },
      "outputs": [],
      "source": [
        "import torch\n",
        "import torchvision \n",
        "import torchvision.datasets as datasets\n",
        "import torchvision.transforms as T\n",
        "import numpy as np\n",
        "from torch_geometric.data import InMemoryDataset, Data\n",
        "from torch_geometric.loader import DataLoader\n",
        "\n",
        "import matplotlib.pyplot as plt\n",
        "\n",
        "from skimage.segmentation import slic\n",
        "import skimage as ski\n",
        "\n",
        "from multiprocessing import Pool\n",
        "\n",
        "from sklearn.metrics import f1_score, accuracy_score"
      ]
    },
    {
      "cell_type": "code",
      "execution_count": null,
      "metadata": {},
      "outputs": [],
      "source": [
        "# on collab: \n",
        "import os\n",
        "import torch\n",
        "os.environ['TORCH'] = torch.__version__\n",
        "print(torch.__version__)\n",
        "\n",
        "import torchvision \n",
        "import torchvision.datasets as datasets\n",
        "import torchvision.transforms as T\n",
        "import numpy as np\n",
        "\n",
        "!pip install -q torch-scatter -f https://data.pyg.org/whl/torch-${TORCH}.html\n",
        "!pip install -q torch-sparse -f https://data.pyg.org/whl/torch-${TORCH}.html\n",
        "!pip install -q git+https://github.com/pyg-team/pytorch_geometric.git\n",
        "\n",
        "from torch_geometric.data import InMemoryDataset, Data\n",
        "from torch_geometric.loader import DataLoader\n",
        "from torch_geometric.transforms import ToSLIC"
      ]
    },
    {
      "cell_type": "code",
      "execution_count": null,
      "metadata": {},
      "outputs": [],
      "source": [
        "import mnist_slic\n",
        "import model"
      ]
    },
    {
      "cell_type": "markdown",
      "metadata": {
        "id": "g8HQh8qJkKnC"
      },
      "source": [
        "Example for visualization"
      ]
    },
    {
      "cell_type": "code",
      "execution_count": 2,
      "metadata": {
        "id": "_LpGX31tkKnD"
      },
      "outputs": [],
      "source": [
        "ds = datasets.MNIST(root = \"./data\", train=False, download=True, transform=T.ToTensor())"
      ]
    },
    {
      "cell_type": "code",
      "execution_count": 3,
      "metadata": {},
      "outputs": [],
      "source": [
        "n_segments = 75\n",
        "compactness = 0.1\n",
        "\n",
        "# features \n",
        "get_avg_color = True\n",
        "get_std_deviation_color = True\n",
        "get_centroid = True\n",
        "get_std_deviation_centroid = True\n",
        "get_num_pixels = True"
      ]
    },
    {
      "cell_type": "code",
      "execution_count": 4,
      "metadata": {},
      "outputs": [],
      "source": [
        "# same as function used in SuperPixelGraphMNIST\n",
        "img, y = ds[1]\n",
        "_, dim0, dim1 = img.shape\n",
        "img_np = img.view(dim0, dim1).numpy()\n",
        "s = slic(img_np, n_segments, compactness, start_label=0)\n",
        "g = ski.future.graph.rag_mean_color(img_np, s)\n",
        "n = g.number_of_nodes()\n",
        "s1 = np.zeros([n, 1])  # for mean color and std deviation\n",
        "s2 = np.zeros([n, 1])  # for std deviation\n",
        "pos1 = np.zeros([n, 2]) # for centroid\n",
        "pos2 = np.zeros([n, 2]) # for centroid std deviation\n",
        "num_pixels = np.zeros([n, 1])\n",
        "for idx in range(dim0 * dim1):\n",
        "        idx_i, idx_j = idx % dim0, int(idx / dim0)\n",
        "        node = s[idx_i][idx_j] - 1\n",
        "        s1[node][0]  += img_np[idx_i][idx_j]\n",
        "        s2[node][0]  += pow(img_np[idx_i][idx_j], 2)\n",
        "        pos1[node][0] += idx_i\n",
        "        pos1[node][1] += idx_j\n",
        "        pos2[node][0] += pow(idx_i, 2)\n",
        "        pos2[node][1] += pow(idx_j, 2)\n",
        "        num_pixels[node][0] += 1"
      ]
    },
    {
      "cell_type": "code",
      "execution_count": 5,
      "metadata": {},
      "outputs": [],
      "source": [
        "# computing features\n",
        "edge_index = torch.from_numpy(np.array(g.edges).T).to(torch.long)\n",
        "x = []\n",
        "s1 = s1/num_pixels\n",
        "avg_color = s1\n",
        "if get_avg_color:\n",
        "    x.append(torch.from_numpy(avg_color.flatten()).to(torch.float))\n",
        "s2 = s2/num_pixels\n",
        "std_deviation = np.sqrt(s2 - s1*s1)\n",
        "if get_std_deviation_color:\n",
        "    x.append(torch.from_numpy(std_deviation.flatten()).to(torch.float))\n",
        "pos1 = pos1/num_pixels\n",
        "pos = torch.from_numpy(pos1).to(torch.float)\n",
        "if get_centroid:\n",
        "        x.append(pos[:,0])\n",
        "        x.append(pos[:,1])\n",
        "if get_std_deviation_centroid:\n",
        "        pos2 = pos2/num_pixels\n",
        "        std_deviation_centroid = np.sqrt(pos2 - pos1*pos1)\n",
        "        x.append(torch.from_numpy(std_deviation_centroid[:,0]).to(torch.float))\n",
        "        x.append(torch.from_numpy(std_deviation_centroid[:,1]).to(torch.float))\n",
        "data = Data(x=torch.torch.stack(x, dim=1), edge_index=edge_index, pos=pos, y=y)"
      ]
    },
    {
      "cell_type": "code",
      "execution_count": null,
      "metadata": {},
      "outputs": [],
      "source": [
        "spds = mnist_slic.SuperPixelGraphMNIST(features=['avg_color'], train=False)"
      ]
    },
    {
      "cell_type": "code",
      "execution_count": null,
      "metadata": {},
      "outputs": [],
      "source": [
        "import networkx as nx\n",
        "from torch_geometric.utils import to_networkx\n",
        "data = spds[0]\n",
        "\n",
        "g = to_networkx(data, to_undirected=True)\n",
        "print(f'Grph with {g.number_of_nodes()} nodes and {g.number_of_edges()} edges')\n",
        "print(f'Label: {data.y[0]}')\n",
        "color_feature = 0\n",
        "nx.draw(g, pos=dict(zip(range(65), data.pos)), node_color=data.x[:,color_feature])\n",
        "# acho que ta virado ?"
      ]
    }
  ],
  "metadata": {
    "colab": {
      "provenance": []
    },
    "kernelspec": {
      "display_name": "Python 3.10.7 64-bit",
      "language": "python",
      "name": "python3"
    },
    "language_info": {
      "codemirror_mode": {
        "name": "ipython",
        "version": 3
      },
      "file_extension": ".py",
      "mimetype": "text/x-python",
      "name": "python",
      "nbconvert_exporter": "python",
      "pygments_lexer": "ipython3",
      "version": "3.10.7"
    },
    "orig_nbformat": 4,
    "vscode": {
      "interpreter": {
        "hash": "e7370f93d1d0cde622a1f8e1c04877d8463912d04d973331ad4851f04de6915a"
      }
    }
  },
  "nbformat": 4,
  "nbformat_minor": 0
}

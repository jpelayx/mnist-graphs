{
  "cells": [
    {
      "cell_type": "code",
      "execution_count": 1,
      "metadata": {
        "id": "6oLZmENYINqH"
      },
      "outputs": [],
      "source": [
        "import torch\n",
        "import torchvision \n",
        "import torchvision.datasets as datasets\n",
        "import torchvision.transforms as T\n",
        "import numpy as np\n",
        "from torch_geometric.data import InMemoryDataset, Data\n",
        "from torch_geometric.loader import DataLoader\n",
        "\n",
        "import matplotlib.pyplot as plt\n",
        "\n",
        "from skimage.segmentation import slic\n",
        "import skimage as ski\n",
        "\n",
        "from multiprocessing import Pool\n",
        "\n",
        "from sklearn.metrics import f1_score, accuracy_score"
      ]
    },
    {
      "cell_type": "code",
      "execution_count": null,
      "metadata": {},
      "outputs": [],
      "source": [
        "# on collab: \n",
        "import os\n",
        "import torch\n",
        "os.environ['TORCH'] = torch.__version__\n",
        "print(torch.__version__)\n",
        "\n",
        "import torchvision \n",
        "import torchvision.datasets as datasets\n",
        "import torchvision.transforms as T\n",
        "import numpy as np\n",
        "\n",
        "!pip install -q torch-scatter -f https://data.pyg.org/whl/torch-${TORCH}.html\n",
        "!pip install -q torch-sparse -f https://data.pyg.org/whl/torch-${TORCH}.html\n",
        "!pip install -q git+https://github.com/pyg-team/pytorch_geometric.git\n",
        "\n",
        "from torch_geometric.data import InMemoryDataset, Data\n",
        "from torch_geometric.loader import DataLoader\n",
        "from torch_geometric.transforms import ToSLIC"
      ]
    },
    {
      "cell_type": "code",
      "execution_count": 1,
      "metadata": {},
      "outputs": [],
      "source": [
        "import mnist_slic\n",
        "import model"
      ]
    },
    {
      "cell_type": "markdown",
      "metadata": {
        "id": "g8HQh8qJkKnC"
      },
      "source": [
        "Example for visualization"
      ]
    },
    {
      "cell_type": "code",
      "execution_count": 2,
      "metadata": {
        "id": "_LpGX31tkKnD"
      },
      "outputs": [],
      "source": [
        "ds = datasets.MNIST(root = \"./data\", train=False, download=True, transform=T.ToTensor())"
      ]
    },
    {
      "cell_type": "code",
      "execution_count": 3,
      "metadata": {},
      "outputs": [],
      "source": [
        "n_segments = 75\n",
        "compactness = 0.1\n",
        "\n",
        "# features \n",
        "get_avg_color = True\n",
        "get_std_deviation_color = True\n",
        "get_centroid = True\n",
        "get_std_deviation_centroid = True\n",
        "get_num_pixels = True"
      ]
    },
    {
      "cell_type": "code",
      "execution_count": 4,
      "metadata": {},
      "outputs": [],
      "source": [
        "# same as function used in SuperPixelGraphMNIST\n",
        "img, y = ds[1]\n",
        "_, dim0, dim1 = img.shape\n",
        "img_np = img.view(dim0, dim1).numpy()\n",
        "s = slic(img_np, n_segments, compactness, start_label=0)\n",
        "g = ski.future.graph.rag_mean_color(img_np, s)\n",
        "n = g.number_of_nodes()\n",
        "s1 = np.zeros([n, 1])  # for mean color and std deviation\n",
        "s2 = np.zeros([n, 1])  # for std deviation\n",
        "pos1 = np.zeros([n, 2]) # for centroid\n",
        "pos2 = np.zeros([n, 2]) # for centroid std deviation\n",
        "num_pixels = np.zeros([n, 1])\n",
        "for idx in range(dim0 * dim1):\n",
        "        idx_i, idx_j = idx % dim0, int(idx / dim0)\n",
        "        node = s[idx_i][idx_j] - 1\n",
        "        s1[node][0]  += img_np[idx_i][idx_j]\n",
        "        s2[node][0]  += pow(img_np[idx_i][idx_j], 2)\n",
        "        pos1[node][0] += idx_i\n",
        "        pos1[node][1] += idx_j\n",
        "        pos2[node][0] += pow(idx_i, 2)\n",
        "        pos2[node][1] += pow(idx_j, 2)\n",
        "        num_pixels[node][0] += 1"
      ]
    },
    {
      "cell_type": "code",
      "execution_count": 5,
      "metadata": {},
      "outputs": [],
      "source": [
        "# computing features\n",
        "edge_index = torch.from_numpy(np.array(g.edges).T).to(torch.long)\n",
        "x = []\n",
        "s1 = s1/num_pixels\n",
        "avg_color = s1\n",
        "if get_avg_color:\n",
        "    x.append(torch.from_numpy(avg_color.flatten()).to(torch.float))\n",
        "s2 = s2/num_pixels\n",
        "std_deviation = np.sqrt(s2 - s1*s1)\n",
        "if get_std_deviation_color:\n",
        "    x.append(torch.from_numpy(std_deviation.flatten()).to(torch.float))\n",
        "pos1 = pos1/num_pixels\n",
        "pos = torch.from_numpy(pos1).to(torch.float)\n",
        "if get_centroid:\n",
        "    x.append(pos[:,0])\n",
        "    x.append(pos[:,1])\n",
        "if get_std_deviation_centroid:\n",
        "    pos2 = pos2/num_pixels\n",
        "    std_deviation_centroid = torch.from_numpy(np.sqrt(pos2 - pos1*pos1)).to(torch.float)\n",
        "    x.append(std_deviation_centroid[:,0])\n",
        "    x.append(std_deviation_centroid[:,1])\n",
        "if get_num_pixels:\n",
        "    x.append(torch.from_numpy(num_pixels.flatten()).to(torch.float))\n",
        "data = Data(x=torch.stack(x, dim=1), edge_index=edge_index, pos=pos, y=y)"
      ]
    },
    {
      "cell_type": "code",
      "execution_count": 22,
      "metadata": {},
      "outputs": [
        {
          "data": {
            "text/plain": [
              "(64,)"
            ]
          },
          "execution_count": 22,
          "metadata": {},
          "output_type": "execute_result"
        }
      ],
      "source": [
        "std_deviation_centroid[:,0].shape"
      ]
    },
    {
      "cell_type": "code",
      "execution_count": 17,
      "metadata": {},
      "outputs": [
        {
          "data": {
            "text/plain": [
              "tensor([[0.0000e+00, 0.0000e+00, 1.0000e+00, 4.0000e+00, 8.1650e-01, 8.1650e-01],\n",
              "        [0.0000e+00, 0.0000e+00, 1.0000e+00, 7.0000e+00, 8.1650e-01, 8.1650e-01],\n",
              "        [1.2368e-01, 2.2998e-01, 1.6923e+00, 9.9231e+00, 1.2640e+00, 8.2849e-01],\n",
              "        [6.7059e-02, 2.0118e-01, 1.2000e+00, 1.2900e+01, 9.7980e-01, 8.3066e-01],\n",
              "        [1.3906e-01, 2.7153e-01, 1.6923e+00, 1.6000e+01, 1.2640e+00, 7.8446e-01],\n",
              "        [0.0000e+00, 0.0000e+00, 1.0000e+00, 1.9000e+01, 8.1650e-01, 8.1650e-01],\n",
              "        [0.0000e+00, 0.0000e+00, 1.0000e+00, 2.2000e+01, 8.1650e-01, 8.1650e-01],\n",
              "        [0.0000e+00, 0.0000e+00, 1.0000e+00, 2.5500e+01, 8.1650e-01, 1.1180e+00],\n",
              "        [0.0000e+00, 0.0000e+00, 4.0000e+00, 1.0000e+00, 8.1650e-01, 8.1650e-01],\n",
              "        [0.0000e+00, 0.0000e+00, 4.0000e+00, 4.0000e+00, 8.1650e-01, 8.1650e-01],\n",
              "        [7.3638e-02, 2.0828e-01, 4.0000e+00, 7.0000e+00, 8.1650e-01, 8.1650e-01],\n",
              "        [8.5390e-01, 2.2598e-01, 6.3590e+00, 1.3462e+01, 2.1422e+00, 2.6875e+00],\n",
              "        [1.1765e-02, 3.5294e-02, 4.0000e+00, 1.8800e+01, 7.7460e-01, 9.7980e-01],\n",
              "        [0.0000e+00, 0.0000e+00, 4.0000e+00, 2.2000e+01, 8.1650e-01, 8.1650e-01],\n",
              "        [0.0000e+00, 0.0000e+00, 4.0000e+00, 2.5500e+01, 8.1650e-01, 1.1180e+00],\n",
              "        [0.0000e+00, 0.0000e+00, 7.0000e+00, 1.0000e+00, 8.1650e-01, 8.1650e-01],\n",
              "        [3.6134e-02, 9.0429e-02, 6.9286e+00, 4.8571e+00, 7.9860e-01, 1.3553e+00],\n",
              "        [1.5777e-01, 2.5050e-01, 7.0769e+00, 1.2462e+01, 9.1664e-01, 1.2163e+00],\n",
              "        [0.0000e+00, 0.0000e+00, 7.0000e+00, 1.9000e+01, 8.1650e-01, 8.1650e-01],\n",
              "        [0.0000e+00, 0.0000e+00, 7.0000e+00, 2.2000e+01, 8.1650e-01, 8.1650e-01],\n",
              "        [0.0000e+00, 0.0000e+00, 7.0000e+00, 2.5500e+01, 8.1650e-01, 1.1180e+00],\n",
              "        [1.1052e-02, 3.4949e-02, 9.6364e+00, 7.0909e+00, 1.0679e+00, 7.9253e-01],\n",
              "        [9.7549e-02, 2.0462e-01, 9.7500e+00, 1.0438e+01, 1.1990e+00, 1.0588e+00],\n",
              "        [0.0000e+00, 0.0000e+00, 1.0000e+01, 1.0000e+00, 8.1650e-01, 8.1650e-01],\n",
              "        [0.0000e+00, 0.0000e+00, 1.0000e+01, 4.0000e+00, 8.1650e-01, 8.1650e-01],\n",
              "        [3.2680e-03, 1.0839e-02, 1.0000e+01, 1.8500e+01, 8.1650e-01, 1.1180e+00],\n",
              "        [0.0000e+00, 0.0000e+00, 1.0000e+01, 2.2000e+01, 8.1650e-01, 8.1650e-01],\n",
              "        [0.0000e+00, 0.0000e+00, 1.0000e+01, 2.5500e+01, 8.1650e-01, 1.1180e+00],\n",
              "        [8.9157e-01, 1.5710e-01, 1.4150e+01, 1.1700e+01, 1.9307e+00, 1.3454e+00],\n",
              "        [1.3165e-02, 3.6476e-02, 1.3214e+01, 1.5786e+01, 1.1451e+00, 1.0127e+00],\n",
              "        [0.0000e+00, 0.0000e+00, 1.3000e+01, 1.0000e+00, 8.1650e-01, 8.1650e-01],\n",
              "        [0.0000e+00, 0.0000e+00, 1.3000e+01, 4.0000e+00, 8.1650e-01, 8.1650e-01],\n",
              "        [1.0915e-01, 2.4797e-01, 1.3389e+01, 8.1111e+00, 1.1614e+00, 1.3287e+00],\n",
              "        [0.0000e+00, 0.0000e+00, 1.3500e+01, 1.9000e+01, 1.1180e+00, 8.1650e-01],\n",
              "        [0.0000e+00, 0.0000e+00, 1.3000e+01, 2.2000e+01, 8.1650e-01, 8.1650e-01],\n",
              "        [0.0000e+00, 0.0000e+00, 1.3000e+01, 2.5500e+01, 8.1650e-01, 1.1180e+00],\n",
              "        [0.0000e+00, 0.0000e+00, 1.6000e+01, 1.0000e+00, 8.1650e-01, 8.1650e-01],\n",
              "        [0.0000e+00, 0.0000e+00, 1.6000e+01, 4.0000e+00, 8.1650e-01, 8.1650e-01],\n",
              "        [6.0000e-02, 1.5675e-01, 1.6500e+01, 6.8000e+00, 1.0247e+00, 7.4833e-01],\n",
              "        [4.1667e-03, 1.2045e-02, 1.6750e+01, 1.4500e+01, 1.1990e+00, 1.1180e+00],\n",
              "        [1.8873e-02, 4.1576e-02, 1.6938e+01, 2.1500e+01, 1.3905e+00, 1.1726e+00],\n",
              "        [3.7255e-02, 1.1323e-01, 1.7150e+01, 2.5650e+01, 1.6815e+00, 1.0618e+00],\n",
              "        [1.1814e-01, 2.4359e-01, 1.7875e+01, 1.8000e+01, 1.3636e+00, 1.1180e+00],\n",
              "        [7.8431e-02, 4.4237e-02, 1.8500e+01, 1.2500e+01, 7.0711e-01, 1.3229e+00],\n",
              "        [0.0000e+00, 0.0000e+00, 1.9000e+01, 1.0000e+00, 8.1650e-01, 8.1650e-01],\n",
              "        [0.0000e+00, 0.0000e+00, 1.9083e+01, 4.5833e+00, 7.5920e-01, 1.2555e+00],\n",
              "        [9.6587e-01, 8.4956e-02, 2.0296e+01, 1.1556e+01, 1.1805e+00, 2.6294e+00],\n",
              "        [5.8529e-01, 5.0943e-03, 1.9000e+01, 2.3500e+01, 0.0000e+00, 1.1180e+00],\n",
              "        [0.0000e+00, 0.0000e+00, 2.2000e+01, 7.1000e+00, 1.0000e+00, 9.4340e-01],\n",
              "        [8.0745e-01, 2.6030e-01, 2.0850e+01, 2.0850e+01, 7.2629e-01, 2.4955e+00],\n",
              "        [0.0000e+00, 0.0000e+00, 2.2100e+01, 2.5800e+01, 9.4340e-01, 1.1662e+00],\n",
              "        [0.0000e+00, 0.0000e+00, 2.2000e+01, 1.0000e+00, 8.1650e-01, 8.1650e-01],\n",
              "        [0.0000e+00, 0.0000e+00, 2.2000e+01, 4.0000e+00, 8.1650e-01, 8.1650e-01],\n",
              "        [4.7745e-01, 8.4904e-03, 2.2000e+01, 1.0500e+01, 0.0000e+00, 1.1180e+00],\n",
              "        [0.0000e+00, 0.0000e+00, 2.4474e+01, 2.2105e+01, 1.6660e+00, 9.1161e-01],\n",
              "        [0.0000e+00, 0.0000e+00, 2.5143e+01, 1.0071e+01, 1.3553e+00, 7.9860e-01],\n",
              "        [0.0000e+00, 0.0000e+00, 2.5000e+01, 1.3000e+01, 1.4142e+00, 8.1650e-01],\n",
              "        [0.0000e+00, 0.0000e+00, 2.5000e+01, 1.6000e+01, 1.4142e+00, 8.1650e-01],\n",
              "        [0.0000e+00, 0.0000e+00, 2.5000e+01, 1.9000e+01, 1.4142e+00, 8.1650e-01],\n",
              "        [0.0000e+00, 0.0000e+00, 2.5500e+01, 1.0000e+00, 1.1180e+00, 8.1650e-01],\n",
              "        [0.0000e+00, 0.0000e+00, 2.5500e+01, 4.0000e+00, 1.1180e+00, 8.1650e-01],\n",
              "        [0.0000e+00, 0.0000e+00, 2.5500e+01, 7.0000e+00, 1.1180e+00, 8.1650e-01],\n",
              "        [0.0000e+00, 0.0000e+00, 2.5600e+01, 2.5600e+01, 1.0832e+00, 1.0832e+00],\n",
              "        [0.0000e+00, 0.0000e+00, 1.0000e+00, 1.0000e+00, 8.1650e-01, 8.1650e-01]])"
            ]
          },
          "execution_count": 17,
          "metadata": {},
          "output_type": "execute_result"
        }
      ],
      "source": [
        "torch.stack(x, dim=1)\n"
      ]
    },
    {
      "cell_type": "code",
      "execution_count": 2,
      "metadata": {},
      "outputs": [
        {
          "name": "stdout",
          "output_type": "stream",
          "text": [
            "Loaded.\n",
            "Average number of nodes: 65.66696666666667 with standard deviation 4.084179493144519\n",
            "Average number of edges: 189.2021 with standard deviation 19.27318315492626\n"
          ]
        }
      ],
      "source": [
        "spds = mnist_slic.SuperPixelGraphMNIST(root='train-n75-c0.1-avg_color-std_deviation_color-centroid-std-deviation_centroid')"
      ]
    },
    {
      "cell_type": "code",
      "execution_count": 4,
      "metadata": {},
      "outputs": [
        {
          "data": {
            "text/plain": [
              "['avg_color', 'centroid']"
            ]
          },
          "execution_count": 4,
          "metadata": {},
          "output_type": "execute_result"
        }
      ],
      "source": [
        "spds"
      ]
    },
    {
      "cell_type": "code",
      "execution_count": null,
      "metadata": {},
      "outputs": [],
      "source": [
        "import networkx as nx\n",
        "from torch_geometric.utils import to_networkx\n",
        "data = spds[0]\n",
        "\n",
        "g = to_networkx(data, to_undirected=True)\n",
        "print(f'Grph with {g.number_of_nodes()} nodes and {g.number_of_edges()} edges')\n",
        "print(f'Label: {data.y[0]}')\n",
        "color_feature = 0\n",
        "nx.draw(g, pos=dict(zip(range(65), data.pos)), node_color=data.x[:,color_feature])\n",
        "# acho que ta virado ?"
      ]
    }
  ],
  "metadata": {
    "colab": {
      "provenance": []
    },
    "kernelspec": {
      "display_name": "Python 3.10.6 64-bit",
      "language": "python",
      "name": "python3"
    },
    "language_info": {
      "codemirror_mode": {
        "name": "ipython",
        "version": 3
      },
      "file_extension": ".py",
      "mimetype": "text/x-python",
      "name": "python",
      "nbconvert_exporter": "python",
      "pygments_lexer": "ipython3",
      "version": "3.10.6"
    },
    "orig_nbformat": 4,
    "vscode": {
      "interpreter": {
        "hash": "1008137c9f4849d5b92bd1af9c25f8df25401862cbdc70b91442f4a826b7c98e"
      }
    }
  },
  "nbformat": 4,
  "nbformat_minor": 0
}
